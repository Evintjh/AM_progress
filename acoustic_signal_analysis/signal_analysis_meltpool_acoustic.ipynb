{
 "cells": [
  {
   "cell_type": "markdown",
   "metadata": {},
   "source": [
    "## Additive manufacturing audio signal processing - V2\n",
    "- Author： Chen Lequn\n",
    "- Oct 2021\n",
    "- A comprehensive analysis on additive manufacturing acoustic signal.\n",
    "- System requirement: Python3"
   ]
  },
  {
   "cell_type": "code",
   "execution_count": null,
   "metadata": {},
   "outputs": [],
   "source": [
    "## Required python libraries\n",
    "import pandas as pd\n",
    "import numpy as np\n",
    "import scipy as sp\n",
    "import os\n",
    "import math\n",
    "\n",
    "# to make this notebook's output stable across runs\n",
    "np.random.seed(42)\n",
    "\n",
    "pd.plotting.register_matplotlib_converters()\n",
    "\n",
    "\n",
    "import matplotlib as mpl\n",
    "import matplotlib.pyplot as plt\n",
    "mpl.rc('axes', labelsize=14)\n",
    "mpl.rc('xtick', labelsize=12)\n",
    "mpl.rc('ytick', labelsize=12)\n",
    "%matplotlib inline\n",
    "import seaborn as sns\n",
    "\n",
    "from sklearn.model_selection import train_test_split\n",
    "from sklearn.metrics import classification_report\n",
    "from sklearn.model_selection import GridSearchCV\n",
    "from sklearn.ensemble import RandomForestClassifier\n",
    "from sklearn.svm import SVC\n",
    "from sklearn.preprocessing import MinMaxScaler"
   ]
  },
  {
   "cell_type": "code",
   "execution_count": null,
   "metadata": {},
   "outputs": [],
   "source": [
    "## Audio signal processing libraries\n",
    "import librosa\n",
    "import librosa.display\n",
    "import IPython.display as ipd"
   ]
  },
  {
   "cell_type": "code",
   "execution_count": null,
   "metadata": {},
   "outputs": [],
   "source": [
    "# Pytorch libraryes and torchaudio - for GPU accelerated feature extraction\n",
    "import torch\n",
    "import torchaudio\n",
    "from torch import nn\n",
    "from torch.utils.data import DataLoader\n",
    "from torch.utils.data import Dataset\n",
    "from torchsummary import summary"
   ]
  },
  {
   "cell_type": "code",
   "execution_count": null,
   "metadata": {},
   "outputs": [],
   "source": [
    "# Where to save the figures, and dataset locations\n",
    "PROJECT_ROOT_DIR = \".\"\n",
    "Audio_PATH = os.path.join(PROJECT_ROOT_DIR, \"AM_audio_dataset\")\n",
    "ABB_LAAM_printing_path = os.path.join(Audio_PATH, \"abb_laam\")\n",
    "kuka_wire_LAAM_printing_path = os.path.join(Audio_PATH, \"kuka_wire_laam\")\n",
    "gas_powder_path = os.path.join(Audio_PATH, \"gas_powder\")\n",
    "cnc_prinitng = os.path.join(Audio_PATH, \"cnc_printing\")\n",
    "ambient_path = os.path.join(Audio_PATH, \"ambient\")\n",
    "\n",
    "IMAGE_PATH = os.path.join(PROJECT_ROOT_DIR, \"signal_processing_images\")\n",
    "os.makedirs(Audio_PATH, exist_ok=True)\n",
    "os.makedirs(IMAGE_PATH, exist_ok=True)\n",
    "\n",
    "\n",
    "## function for automatically save the diagram/graph into the folder \n",
    "def save_fig(fig_id, tight_layout=True, fig_extension=\"png\", resolution=300):\n",
    "    path = os.path.join(IMAGE_PATH, fig_id + \".\" + fig_extension)\n",
    "    print(\"Saving figure\", fig_id)\n",
    "    if tight_layout:\n",
    "        plt.tight_layout()\n",
    "    plt.savefig(path, format=fig_extension, dpi=resolution)\n",
    "\n",
    "# Ignore useless warnings (see SciPy issue #5998)\n",
    "import warnings\n",
    "warnings.filterwarnings(action=\"ignore\", message=\"^internal gelsd\")"
   ]
  },
  {
   "cell_type": "markdown",
   "metadata": {},
   "source": [
    "## Load Sound"
   ]
  },
  {
   "cell_type": "code",
   "execution_count": null,
   "metadata": {},
   "outputs": [],
   "source": [
    "# load sounds\n",
    "LAAM1, sampling_rate = librosa.load(os.path.join(ABB_LAAM_printing_path, \"printing_normal_1.wav\"))\n",
    "LAAM2, _ = librosa.load(os.path.join(ABB_LAAM_printing_path, \"printing_normal_3.wav\"))\n",
    "LAAM3, _ = librosa.load(os.path.join(ABB_LAAM_printing_path, \"printing_normal_5.wav\"))\n",
    "LAAM4, _  = librosa.load(os.path.join(ABB_LAAM_printing_path, \"printing4.wav\"))\n",
    "\n",
    "cnc1, _ = librosa.load(os.path.join(cnc_prinitng, \"3.wav\"))\n",
    "cnc1, _ = librosa.load(os.path.join(cnc_prinitng, \"4.wav\"))\n",
    "cnc1, _ = librosa.load(os.path.join(cnc_prinitng, \"5.wav\"))\n",
    "\n",
    "\n",
    "ambient1, _ = librosa.load(os.path.join(ambient_path, \"aimbient914.wav\"))\n",
    "ambient2, _ = librosa.load(os.path.join(ambient_path, \"aimbient5.wav\"))\n",
    "\n",
    "\n",
    "gas1, _ = librosa.load(os.path.join(gas_powder_path, \"gas2.wav\"))\n",
    "gas2, _ = librosa.load(os.path.join(gas_powder_path, \"printing_gas_powder.wav\"))\n",
    "\n",
    "Kuka1, _ = librosa.load(os.path.join(kuka_wire_LAAM_printing_path, \"9.wav\"))\n",
    "Kuka2, _ = librosa.load(os.path.join(kuka_wire_LAAM_printing_path, \"10.wav\"))\n",
    "Kuka3, _ = librosa.load(os.path.join(kuka_wire_LAAM_printing_path, \"8.wav\"))"
   ]
  }
 ],
 "metadata": {
  "kernelspec": {
   "display_name": "Python 3",
   "language": "python",
   "name": "python3"
  },
  "language_info": {
   "codemirror_mode": {
    "name": "ipython",
    "version": 3
   },
   "file_extension": ".py",
   "mimetype": "text/x-python",
   "name": "python",
   "nbconvert_exporter": "python",
   "pygments_lexer": "ipython3",
   "version": "3.6.9"
  }
 },
 "nbformat": 4,
 "nbformat_minor": 2
}
